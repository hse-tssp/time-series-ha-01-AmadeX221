{
  "nbformat": 4,
  "nbformat_minor": 0,
  "metadata": {
    "kernelspec": {
      "display_name": "Python 3",
      "language": "python",
      "name": "python3"
    },
    "language_info": {
      "codemirror_mode": {
        "name": "ipython",
        "version": 3
      },
      "file_extension": ".py",
      "mimetype": "text/x-python",
      "name": "python",
      "nbconvert_exporter": "python",
      "pygments_lexer": "ipython3",
      "version": "3.7.0"
    },
    "colab": {
      "name": "BI_TSA_HA_1_Petrov_Artem.ipynb",
      "provenance": []
    }
  },
  "cells": [
    {
      "cell_type": "markdown",
      "metadata": {
        "id": "d7Ag0X9UG09f"
      },
      "source": [
        "## Time Series Analysis: Home Assignment 1"
      ]
    },
    {
      "cell_type": "markdown",
      "metadata": {
        "id": "u49MvDanG09m"
      },
      "source": [
        "due to **11.02.21 23:00**\n",
        "\n",
        "You need to upload HA1 to github repository,  the link will be provided later."
      ]
    },
    {
      "cell_type": "markdown",
      "metadata": {
        "id": "9yJMVdLEG09n"
      },
      "source": [
        "Enter your name below: "
      ]
    },
    {
      "cell_type": "code",
      "metadata": {
        "id": "UZUqZtxfG09n"
      },
      "source": [
        "name='Petrov Artem'"
      ],
      "execution_count": null,
      "outputs": []
    },
    {
      "cell_type": "markdown",
      "metadata": {
        "id": "WzzAeQ8hG09o"
      },
      "source": [
        "### Contents"
      ]
    },
    {
      "cell_type": "markdown",
      "metadata": {
        "id": "3yKWHpOxG09o"
      },
      "source": [
        "1. **Data preparation (7 points)**\n",
        "\n",
        "    $1.0$ Download data and import functions\n",
        "    \n",
        "    $1.1$ Read data (1 pt.)\n",
        "    \n",
        "    $1.2$ Check NAs (1 pt.)\n",
        "    \n",
        "    $1.3$ Transform dates (2 pt.)\n",
        "    \n",
        "    $1.4$. Make some plots (0.75 pt.)\n",
        "    \n",
        "    $1.5$ Split the data (0.75 pt.)\n",
        "    \n",
        " \n",
        "2. **ETS (7 points)**\n",
        "\n",
        "    $2.1$ Estimate ETS (1 pt.)\n",
        "    \n",
        "    $2.2$ Point forecasts (1 pt.)\n",
        "    \n",
        "    $2.3$ Interval forecasts 1 (1 pt.)\n",
        "    \n",
        "    $2.4$ Interval forecasts 2 (1 pt.)\n",
        "    \n",
        "    $2.5$ Forecast quality metrics (2 pt.)\n",
        "    \n",
        "    $2.6$ Model comparison (1 pt.)\n",
        "    "
      ]
    },
    {
      "cell_type": "markdown",
      "metadata": {
        "id": "EPg-9eCJG09o"
      },
      "source": [
        "## 1. Data preparation (7 pt.)"
      ]
    },
    {
      "cell_type": "markdown",
      "metadata": {
        "id": "QVCM75fCG09p"
      },
      "source": [
        "### 1.0 Download data and import functions\n",
        "[back to contents](#Contents)"
      ]
    },
    {
      "cell_type": "markdown",
      "metadata": {
        "id": "0yxGfoksG09p"
      },
      "source": [
        "You have to download [BI_TSA_HA_1_data.csv](https://github.com/bdemeshev/ts603/blob/master/2021-spring/BI_TSA_HA_1_data.csv), which represents quarterly sales of Walmart from 1984 to 2020. The sourse of the data is [ycharts.com](https://ycharts.com/companies/WMT/revenues). "
      ]
    },
    {
      "cell_type": "code",
      "metadata": {
        "id": "nMFf6XHHG09p"
      },
      "source": [
        "import pandas as pd\n",
        "import numpy as np\n",
        "import matplotlib.pyplot as plt\n",
        "from sktime.utils.plotting import plot_series\n",
        "from sktime.forecasting.model_selection import temporal_train_test_split\n",
        "from statsmodels.tsa.exponential_smoothing.ets import ETSModel\n",
        "from sklearn.metrics import  mean_absolute_error, mean_squared_error"
      ],
      "execution_count": 43,
      "outputs": []
    },
    {
      "cell_type": "markdown",
      "metadata": {
        "id": "R5gxnDP0G09q"
      },
      "source": [
        "### 1.1 Read data (1 pt.)\n",
        "[back to contents](#Contents)"
      ]
    },
    {
      "cell_type": "markdown",
      "metadata": {
        "id": "-0Fcfgv0G09q"
      },
      "source": [
        "Read the downloaded data from your local computer and name it ``` df ```\n",
        "\n",
        "Alternatively, you can skip 1.0 and access data directly putting ```'https://raw.github.com/bdemeshev/ts603/master/2021-spring/BI_TSA_HA_1_data.csv'``` inside ```read_csv```\n",
        "\n",
        "use ``` pd.read_csv('... .csv') ```"
      ]
    },
    {
      "cell_type": "code",
      "metadata": {
        "colab": {
          "base_uri": "https://localhost:8080/",
          "height": 204
        },
        "id": "PHhC04N8G09q",
        "outputId": "e948aabd-7ffa-4b16-eb00-802df49febe1"
      },
      "source": [
        "#code here (1 pt.)\n",
        "df=pd.read_csv('https://raw.github.com/bdemeshev/ts603/master/2021-spring/BI_TSA_HA_1_data.csv')\n",
        "df.head()"
      ],
      "execution_count": 48,
      "outputs": [
        {
          "output_type": "execute_result",
          "data": {
            "text/html": [
              "<div>\n",
              "<style scoped>\n",
              "    .dataframe tbody tr th:only-of-type {\n",
              "        vertical-align: middle;\n",
              "    }\n",
              "\n",
              "    .dataframe tbody tr th {\n",
              "        vertical-align: top;\n",
              "    }\n",
              "\n",
              "    .dataframe thead th {\n",
              "        text-align: right;\n",
              "    }\n",
              "</style>\n",
              "<table border=\"1\" class=\"dataframe\">\n",
              "  <thead>\n",
              "    <tr style=\"text-align: right;\">\n",
              "      <th></th>\n",
              "      <th>sales</th>\n",
              "      <th>month</th>\n",
              "      <th>day</th>\n",
              "      <th>year</th>\n",
              "    </tr>\n",
              "  </thead>\n",
              "  <tbody>\n",
              "    <tr>\n",
              "      <th>0</th>\n",
              "      <td>134.71</td>\n",
              "      <td>10</td>\n",
              "      <td>31</td>\n",
              "      <td>2020</td>\n",
              "    </tr>\n",
              "    <tr>\n",
              "      <th>1</th>\n",
              "      <td>137.74</td>\n",
              "      <td>7</td>\n",
              "      <td>31</td>\n",
              "      <td>2020</td>\n",
              "    </tr>\n",
              "    <tr>\n",
              "      <th>2</th>\n",
              "      <td>134.62</td>\n",
              "      <td>4</td>\n",
              "      <td>30</td>\n",
              "      <td>2020</td>\n",
              "    </tr>\n",
              "    <tr>\n",
              "      <th>3</th>\n",
              "      <td>141.67</td>\n",
              "      <td>1</td>\n",
              "      <td>31</td>\n",
              "      <td>2020</td>\n",
              "    </tr>\n",
              "    <tr>\n",
              "      <th>4</th>\n",
              "      <td>127.99</td>\n",
              "      <td>10</td>\n",
              "      <td>31</td>\n",
              "      <td>2019</td>\n",
              "    </tr>\n",
              "  </tbody>\n",
              "</table>\n",
              "</div>"
            ],
            "text/plain": [
              "    sales  month  day  year\n",
              "0  134.71     10   31  2020\n",
              "1  137.74      7   31  2020\n",
              "2  134.62      4   30  2020\n",
              "3  141.67      1   31  2020\n",
              "4  127.99     10   31  2019"
            ]
          },
          "metadata": {
            "tags": []
          },
          "execution_count": 48
        }
      ]
    },
    {
      "cell_type": "markdown",
      "metadata": {
        "id": "iy1BG4MvG09q"
      },
      "source": [
        "### 1.2 Check NAs (1 pt.)\n",
        "[back to contents](#Contents)"
      ]
    },
    {
      "cell_type": "markdown",
      "metadata": {
        "id": "5_r1e1EbG09r"
      },
      "source": [
        "Check whether ``` df ``` contains missing values(NAs):\n",
        "\n",
        "apply ``` isna().value_counts() ``` to ``` df ```"
      ]
    },
    {
      "cell_type": "code",
      "metadata": {
        "colab": {
          "base_uri": "https://localhost:8080/"
        },
        "id": "QSFjcx86G09r",
        "outputId": "88f90286-ae76-450d-acad-6ae134b680f5"
      },
      "source": [
        "# code here (0.5 pt.)\n",
        "df.isna().value_counts()"
      ],
      "execution_count": 49,
      "outputs": [
        {
          "output_type": "execute_result",
          "data": {
            "text/plain": [
              "sales  month  day    year \n",
              "False  False  False  False    147\n",
              "dtype: int64"
            ]
          },
          "metadata": {
            "tags": []
          },
          "execution_count": 49
        }
      ]
    },
    {
      "cell_type": "markdown",
      "metadata": {
        "id": "e6PpkPI-G09r"
      },
      "source": [
        "How many missing values are there in ``` df ```?"
      ]
    },
    {
      "cell_type": "code",
      "metadata": {
        "id": "LaZQ6jkxG09r"
      },
      "source": [
        "# answer (0.5 pt.)\n",
        "# since all booleans are False the answer is 0"
      ],
      "execution_count": 44,
      "outputs": []
    },
    {
      "cell_type": "markdown",
      "metadata": {
        "id": "vt3Jq5VMG09r"
      },
      "source": [
        "### 1.3 Dates transformation (2 pt.)\n",
        "[back to contents](#Contents)"
      ]
    },
    {
      "cell_type": "markdown",
      "metadata": {
        "id": "ZDux85PTG09s"
      },
      "source": [
        "How are dates represented in the original dataset? "
      ]
    },
    {
      "cell_type": "code",
      "metadata": {
        "id": "IbMxyb8GG09s"
      },
      "source": [
        "# answer (0.5 pt.)\n",
        "# separate column for month, column for day, and column for year\n"
      ],
      "execution_count": 45,
      "outputs": []
    },
    {
      "cell_type": "markdown",
      "metadata": {
        "id": "02ffVpAWG09s"
      },
      "source": [
        "Transform dates to datetime format:\n",
        "\n",
        "``` df['date']=df['...']*10000+df['...']*100+df['...']*1 ```\n",
        "\n",
        "``` df['date']=pd.to_datetime(df['date'], format='%Y%m%d') ```\n",
        "\n",
        "change each ``` df['...'] ``` to one of ``` df['month'] ```, ``` df['year'] ```, ``` df['day'] ```according to ``` format='%Y%m%d'```"
      ]
    },
    {
      "cell_type": "code",
      "metadata": {
        "id": "I54rVHuEG09s"
      },
      "source": [
        "# code here (0.5 pt.)\n",
        "df['date']=df['year']*10000+df['month']*100+df['day']*1\n",
        "df['date']=pd.to_datetime(df['date'], format='%Y%m%d')"
      ],
      "execution_count": 50,
      "outputs": []
    },
    {
      "cell_type": "markdown",
      "metadata": {
        "id": "szlJczsQG09s"
      },
      "source": [
        "Change index to dates:\n",
        "\n",
        "``` df.index=.... ```"
      ]
    },
    {
      "cell_type": "code",
      "metadata": {
        "colab": {
          "base_uri": "https://localhost:8080/",
          "height": 235
        },
        "id": "HndFsmcdG09t",
        "outputId": "fa937d28-dec7-457d-c633-278d93046ba9"
      },
      "source": [
        "# code here (0.25 pt.)\n",
        "df.index = df['date']\n",
        "df.head()"
      ],
      "execution_count": 51,
      "outputs": [
        {
          "output_type": "execute_result",
          "data": {
            "text/html": [
              "<div>\n",
              "<style scoped>\n",
              "    .dataframe tbody tr th:only-of-type {\n",
              "        vertical-align: middle;\n",
              "    }\n",
              "\n",
              "    .dataframe tbody tr th {\n",
              "        vertical-align: top;\n",
              "    }\n",
              "\n",
              "    .dataframe thead th {\n",
              "        text-align: right;\n",
              "    }\n",
              "</style>\n",
              "<table border=\"1\" class=\"dataframe\">\n",
              "  <thead>\n",
              "    <tr style=\"text-align: right;\">\n",
              "      <th></th>\n",
              "      <th>sales</th>\n",
              "      <th>month</th>\n",
              "      <th>day</th>\n",
              "      <th>year</th>\n",
              "      <th>date</th>\n",
              "    </tr>\n",
              "    <tr>\n",
              "      <th>date</th>\n",
              "      <th></th>\n",
              "      <th></th>\n",
              "      <th></th>\n",
              "      <th></th>\n",
              "      <th></th>\n",
              "    </tr>\n",
              "  </thead>\n",
              "  <tbody>\n",
              "    <tr>\n",
              "      <th>2020-10-31</th>\n",
              "      <td>134.71</td>\n",
              "      <td>10</td>\n",
              "      <td>31</td>\n",
              "      <td>2020</td>\n",
              "      <td>2020-10-31</td>\n",
              "    </tr>\n",
              "    <tr>\n",
              "      <th>2020-07-31</th>\n",
              "      <td>137.74</td>\n",
              "      <td>7</td>\n",
              "      <td>31</td>\n",
              "      <td>2020</td>\n",
              "      <td>2020-07-31</td>\n",
              "    </tr>\n",
              "    <tr>\n",
              "      <th>2020-04-30</th>\n",
              "      <td>134.62</td>\n",
              "      <td>4</td>\n",
              "      <td>30</td>\n",
              "      <td>2020</td>\n",
              "      <td>2020-04-30</td>\n",
              "    </tr>\n",
              "    <tr>\n",
              "      <th>2020-01-31</th>\n",
              "      <td>141.67</td>\n",
              "      <td>1</td>\n",
              "      <td>31</td>\n",
              "      <td>2020</td>\n",
              "      <td>2020-01-31</td>\n",
              "    </tr>\n",
              "    <tr>\n",
              "      <th>2019-10-31</th>\n",
              "      <td>127.99</td>\n",
              "      <td>10</td>\n",
              "      <td>31</td>\n",
              "      <td>2019</td>\n",
              "      <td>2019-10-31</td>\n",
              "    </tr>\n",
              "  </tbody>\n",
              "</table>\n",
              "</div>"
            ],
            "text/plain": [
              "             sales  month  day  year       date\n",
              "date                                           \n",
              "2020-10-31  134.71     10   31  2020 2020-10-31\n",
              "2020-07-31  137.74      7   31  2020 2020-07-31\n",
              "2020-04-30  134.62      4   30  2020 2020-04-30\n",
              "2020-01-31  141.67      1   31  2020 2020-01-31\n",
              "2019-10-31  127.99     10   31  2019 2019-10-31"
            ]
          },
          "metadata": {
            "tags": []
          },
          "execution_count": 51
        }
      ]
    },
    {
      "cell_type": "markdown",
      "metadata": {
        "id": "Gsor8R95G09t"
      },
      "source": [
        "What is the size of the dataset?\n",
        "\n",
        "use ```.shape```"
      ]
    },
    {
      "cell_type": "code",
      "metadata": {
        "colab": {
          "base_uri": "https://localhost:8080/"
        },
        "id": "EnMSAt_NG09t",
        "outputId": "d8b81dfc-06d1-4fb5-d9cd-f5e613b71de1"
      },
      "source": [
        "# code here (0.25 pt.)\n",
        "df.shape"
      ],
      "execution_count": 52,
      "outputs": [
        {
          "output_type": "execute_result",
          "data": {
            "text/plain": [
              "(147, 5)"
            ]
          },
          "metadata": {
            "tags": []
          },
          "execution_count": 52
        }
      ]
    },
    {
      "cell_type": "markdown",
      "metadata": {
        "id": "oQeNzPeTG09t"
      },
      "source": [
        "Drop columns ['day', 'year','month','date']:\n",
        "\n",
        "```df=df.drop(..., axis=1)```"
      ]
    },
    {
      "cell_type": "code",
      "metadata": {
        "colab": {
          "base_uri": "https://localhost:8080/",
          "height": 235
        },
        "id": "e-iIv-QAG09t",
        "outputId": "264dd811-27b5-428b-f174-46300ac66b9b"
      },
      "source": [
        "# code here (0.25 pt.)\n",
        "df=df.drop(['day', 'year','month','date'], axis=1)\n",
        "df.head()"
      ],
      "execution_count": 53,
      "outputs": [
        {
          "output_type": "execute_result",
          "data": {
            "text/html": [
              "<div>\n",
              "<style scoped>\n",
              "    .dataframe tbody tr th:only-of-type {\n",
              "        vertical-align: middle;\n",
              "    }\n",
              "\n",
              "    .dataframe tbody tr th {\n",
              "        vertical-align: top;\n",
              "    }\n",
              "\n",
              "    .dataframe thead th {\n",
              "        text-align: right;\n",
              "    }\n",
              "</style>\n",
              "<table border=\"1\" class=\"dataframe\">\n",
              "  <thead>\n",
              "    <tr style=\"text-align: right;\">\n",
              "      <th></th>\n",
              "      <th>sales</th>\n",
              "    </tr>\n",
              "    <tr>\n",
              "      <th>date</th>\n",
              "      <th></th>\n",
              "    </tr>\n",
              "  </thead>\n",
              "  <tbody>\n",
              "    <tr>\n",
              "      <th>2020-10-31</th>\n",
              "      <td>134.71</td>\n",
              "    </tr>\n",
              "    <tr>\n",
              "      <th>2020-07-31</th>\n",
              "      <td>137.74</td>\n",
              "    </tr>\n",
              "    <tr>\n",
              "      <th>2020-04-30</th>\n",
              "      <td>134.62</td>\n",
              "    </tr>\n",
              "    <tr>\n",
              "      <th>2020-01-31</th>\n",
              "      <td>141.67</td>\n",
              "    </tr>\n",
              "    <tr>\n",
              "      <th>2019-10-31</th>\n",
              "      <td>127.99</td>\n",
              "    </tr>\n",
              "  </tbody>\n",
              "</table>\n",
              "</div>"
            ],
            "text/plain": [
              "             sales\n",
              "date              \n",
              "2020-10-31  134.71\n",
              "2020-07-31  137.74\n",
              "2020-04-30  134.62\n",
              "2020-01-31  141.67\n",
              "2019-10-31  127.99"
            ]
          },
          "metadata": {
            "tags": []
          },
          "execution_count": 53
        }
      ]
    },
    {
      "cell_type": "markdown",
      "metadata": {
        "id": "yxS6h9qDG09u"
      },
      "source": [
        "What is the size of the dataset now?"
      ]
    },
    {
      "cell_type": "code",
      "metadata": {
        "colab": {
          "base_uri": "https://localhost:8080/"
        },
        "id": "8sk1D9JtG09u",
        "outputId": "0ec73787-db82-4ad1-e9a2-ea9b7229d2b5"
      },
      "source": [
        "# code here (0.25 pt.)\n",
        "df.shape"
      ],
      "execution_count": 54,
      "outputs": [
        {
          "output_type": "execute_result",
          "data": {
            "text/plain": [
              "(147, 1)"
            ]
          },
          "metadata": {
            "tags": []
          },
          "execution_count": 54
        }
      ]
    },
    {
      "cell_type": "markdown",
      "metadata": {
        "id": "kSAKX0_mG09u"
      },
      "source": [
        "### 1.4 Plot data (0.75 pt.)\n",
        "[back to contents](#Contents)"
      ]
    },
    {
      "cell_type": "markdown",
      "metadata": {
        "id": "nTZFQjWUG09u"
      },
      "source": [
        "transform data frame column to series:\n",
        "\n",
        "```y=df['date']```"
      ]
    },
    {
      "cell_type": "code",
      "metadata": {
        "id": "GIF8W35tG09u"
      },
      "source": [
        "# code here (0.25 pt.)\n",
        "y=df['sales']"
      ],
      "execution_count": 55,
      "outputs": []
    },
    {
      "cell_type": "markdown",
      "metadata": {
        "id": "182b_JVJG09u"
      },
      "source": [
        "```plot_series``` gets a series as an argument, whose dates sorted in ascending order.\n",
        "Transform your time series by changing descending order to ascending order:\n",
        "\n",
        "apply ```np.flip``` to ```y``` and name the result ```y```"
      ]
    },
    {
      "cell_type": "code",
      "metadata": {
        "id": "I8NvJAKKG09v"
      },
      "source": [
        "# code here (0.25 pt.)\n",
        "y = np.flip(y)"
      ],
      "execution_count": 56,
      "outputs": []
    },
    {
      "cell_type": "markdown",
      "metadata": {
        "id": "YOG0VFJAG09v"
      },
      "source": [
        "Plot the series using ```plot_series()```"
      ]
    },
    {
      "cell_type": "code",
      "metadata": {
        "colab": {
          "base_uri": "https://localhost:8080/",
          "height": 265
        },
        "id": "GPlm4ZwBG09v",
        "outputId": "c65cfec3-5fa3-4917-bb96-0ce31c413768"
      },
      "source": [
        "# code here (0.25 pt.)\n",
        "plot_series(y)\n",
        "plt.show()"
      ],
      "execution_count": 58,
      "outputs": [
        {
          "output_type": "display_data",
          "data": {
            "image/png": "[encoded data removed]",
            "text/plain": [
              "<Figure size 1152x288 with 1 Axes>"
            ]
          },
          "metadata": {
            "tags": [],
            "needs_background": "light"
          }
        }
      ]
    },
    {
      "cell_type": "markdown",
      "metadata": {
        "id": "Oib0JjpMG09v"
      },
      "source": [
        "### 1.5 Split data (0.75 pt.)\n",
        "[back to contents](#Contents)"
      ]
    },
    {
      "cell_type": "markdown",
      "metadata": {
        "id": "sDSP3iCEG09v"
      },
      "source": [
        "Split the data into train and test samples:\n",
        "\n",
        "``` temporal_train_test_split(...) ```\n",
        "\n",
        "choose ``` test_size=0.2 ```"
      ]
    },
    {
      "cell_type": "code",
      "metadata": {
        "id": "Qsjbj6g0G09v"
      },
      "source": [
        "# code here (0.5 pt.)\n",
        "train, test = temporal_train_test_split(y, test_size=0.2)"
      ],
      "execution_count": 24,
      "outputs": []
    },
    {
      "cell_type": "markdown",
      "metadata": {
        "id": "JJYlfi_JG09w"
      },
      "source": [
        "plot train and test samples using ``` plot_series ```"
      ]
    },
    {
      "cell_type": "code",
      "metadata": {
        "colab": {
          "base_uri": "https://localhost:8080/",
          "height": 265
        },
        "id": "kDHBGIfUG09w",
        "outputId": "7681fba3-0200-4e0d-a4e3-3c75739b9fc0"
      },
      "source": [
        "# code here (0.25 pt.)\n",
        "plot_series(train, test)\n",
        "plt.show()"
      ],
      "execution_count": 59,
      "outputs": [
        {
          "output_type": "display_data",
          "data": {
            "image/png": "[encoded data removed]",
            "text/plain": [
              "<Figure size 1152x288 with 1 Axes>"
            ]
          },
          "metadata": {
            "tags": [],
            "needs_background": "light"
          }
        }
      ]
    },
    {
      "cell_type": "markdown",
      "metadata": {
        "id": "HW9OSiyFG09w"
      },
      "source": [
        "## 2. ETS (7 pt.)"
      ]
    },
    {
      "cell_type": "markdown",
      "metadata": {
        "id": "DfBFS-cOG09w"
      },
      "source": [
        "### 2.1 Estimate ETS (MAA) and (AAM) (1 pt.)\n",
        "[back to contents](#Contents)"
      ]
    },
    {
      "cell_type": "markdown",
      "metadata": {
        "id": "Xd8ad4UsG09w"
      },
      "source": [
        "Start with ETS (MAA). Estimate the model and name it ```model_MAA```:\n",
        "\n",
        "```ETSModel(..., error='...', trend='...', seasonal='...', seasonal_periods=...)```\n",
        "\n",
        "```fit_MAA=model_MAA.fit()```\n"
      ]
    },
    {
      "cell_type": "code",
      "metadata": {
        "id": "jfeXt_n2G09w"
      },
      "source": [
        "# code here (0.5 pt.)\n",
        "model_MAA = ETSModel(train, error='mul', trend='add', seasonal='add', seasonal_periods=4)\n",
        "fit_MAA=model_MAA.fit()"
      ],
      "execution_count": 60,
      "outputs": []
    },
    {
      "cell_type": "markdown",
      "metadata": {
        "id": "4UkoXIYmG09y"
      },
      "source": [
        "Estimate ETS (AAM) with the same characteristics:\n",
        "    \n",
        "```ETSModel(..., error='...', trend='...', seasonal='...', seasonal_periods=...)```\n",
        "\n",
        "```fit_AAM=model_AAM.fit()```\n"
      ]
    },
    {
      "cell_type": "code",
      "metadata": {
        "id": "cWPT4VWeG09y"
      },
      "source": [
        "# code here (0.5 pt.)\n",
        "model_AAM = ETSModel(train, error='add', trend='add', seasonal='mul', seasonal_periods=4)\n",
        "fit_AAM=model_AAM.fit()"
      ],
      "execution_count": 61,
      "outputs": []
    },
    {
      "cell_type": "markdown",
      "metadata": {
        "id": "nkOylY5QG09y"
      },
      "source": [
        "### 2.2 Point forecasts (1 pt.)\n",
        "[back to contents](#Contents)"
      ]
    },
    {
      "cell_type": "markdown",
      "metadata": {
        "id": "Qr1fZKBsG09y"
      },
      "source": [
        "Obtain point forecasts for ETS(MAA) with forecasting horizon=30 quarters:\n",
        "\n",
        "```fit_MAA.forecast(steps=...)```"
      ]
    },
    {
      "cell_type": "code",
      "metadata": {
        "id": "SNV8Jm4aG09z"
      },
      "source": [
        "# code here (0.25 pt.)\n",
        "fit_MAA_forecast = fit_MAA.forecast(steps=30)"
      ],
      "execution_count": 62,
      "outputs": []
    },
    {
      "cell_type": "markdown",
      "metadata": {
        "id": "kr2uPtzJG09z"
      },
      "source": [
        "Obtain point forecasts for ETS(AAM) with forecasting horizon=30 quarters:\n",
        "\n",
        "```fit_AAM.forecast(steps=...)```"
      ]
    },
    {
      "cell_type": "code",
      "metadata": {
        "id": "aliq9kRaG09z"
      },
      "source": [
        "# code here (0.25 pt.)\n",
        "fit_AAM_forecast = fit_AAM.forecast(steps=30)"
      ],
      "execution_count": 63,
      "outputs": []
    },
    {
      "cell_type": "markdown",
      "metadata": {
        "id": "US1l3M7fG09z"
      },
      "source": [
        "Plot both forecasts (AAM) and (MAA), test and train data\n",
        "\n",
        "```plot_series()```"
      ]
    },
    {
      "cell_type": "code",
      "metadata": {
        "colab": {
          "base_uri": "https://localhost:8080/",
          "height": 265
        },
        "id": "wYMcLWmqG09z",
        "outputId": "d8a74354-9e12-4d3d-e7ee-dca8f511f0a2"
      },
      "source": [
        "# code here (0.5 pt.)\n",
        "plot_series(train, test, fit_MAA_forecast, fit_AAM_forecast, labels=['train','test','fit_MAA_forecast','fit_AAM_forecast'])\n",
        "plt.show()"
      ],
      "execution_count": 65,
      "outputs": [
        {
          "output_type": "display_data",
          "data": {
            "image/png": "[encoded data removed]",
            "text/plain": [
              "<Figure size 1152x288 with 1 Axes>"
            ]
          },
          "metadata": {
            "tags": [],
            "needs_background": "light"
          }
        }
      ]
    },
    {
      "cell_type": "markdown",
      "metadata": {
        "id": "8R9RgQX4G09z"
      },
      "source": [
        "### 2.3 Interval forecasts ETS(MAA) (1 pt.)\n",
        "[back to contents](#Contents)"
      ]
    },
    {
      "cell_type": "markdown",
      "metadata": {
        "id": "QUTAFsu7G090"
      },
      "source": [
        "Get 95% confidence intervals:\n",
        "\n",
        "```pred_MAA=fit_MAA.get_prediction(start='2013-07-31', end='2020-10-31') ```\n",
        "\n",
        "``` pred_MAA=pred_MAA.summary_frame(alpha=0.05) ```\n",
        "\n",
        "Expract upper and lower bounds from ```pred_MAA``` and name them ```upper_int``` and ```lower_int```\n"
      ]
    },
    {
      "cell_type": "code",
      "metadata": {
        "id": "avLTY_7iG090"
      },
      "source": [
        "# code here (0.5 pt.)\n",
        "pred_MAA=fit_MAA.get_prediction(start='2013-07-31', end='2020-10-31')\n",
        "pred_MAA=pred_MAA.summary_frame(alpha=0.05)\n",
        "upper_int = pred_MAA['pi_upper']\n",
        "lower_int = pred_MAA['pi_lower']"
      ],
      "execution_count": 66,
      "outputs": []
    },
    {
      "cell_type": "markdown",
      "metadata": {
        "id": "Iw-F2SDzG090"
      },
      "source": [
        "Plot interval predictions:\n",
        "\n",
        "```plot_series()```"
      ]
    },
    {
      "cell_type": "code",
      "metadata": {
        "scrolled": true,
        "colab": {
          "base_uri": "https://localhost:8080/",
          "height": 265
        },
        "id": "3qjeTZ2vG090",
        "outputId": "c6d118ea-91e4-444e-87a3-c18a1b82beb2"
      },
      "source": [
        "# code here (0.5 pt.)\n",
        "plot_series(train, test, lower_int,upper_int, labels=['train','test','lower_int','upper_int']   )\n",
        "plt.show()"
      ],
      "execution_count": 67,
      "outputs": [
        {
          "output_type": "display_data",
          "data": {
            "image/png": "[encoded data removed]",
            "text/plain": [
              "<Figure size 1152x288 with 1 Axes>"
            ]
          },
          "metadata": {
            "tags": [],
            "needs_background": "light"
          }
        }
      ]
    },
    {
      "cell_type": "markdown",
      "metadata": {
        "id": "0bcE0lcJG090"
      },
      "source": [
        "### 2.4 Interval forecasts ETS(AAM) (1 pt.)\n",
        "[back to contents](#Contents)"
      ]
    },
    {
      "cell_type": "markdown",
      "metadata": {
        "id": "Kt0OnAywG090"
      },
      "source": [
        "Get 95% confidence intervals:\n",
        "\n",
        "``` pred_AAM=fit_AAM.get_prediction(start='2013-07-31', end='2020-10-31') ```\n",
        "\n",
        "``` pred_AAM=pred_AAM.summary_frame(alpha=0.05) ```\n",
        "\n",
        "Expract upper and lower bounds from ```pred_MAA``` and name them ```upper_int``` and ```lower_int```"
      ]
    },
    {
      "cell_type": "code",
      "metadata": {
        "id": "CAWr1RElG091"
      },
      "source": [
        "# code here (0.5 pt.)\n",
        "pred_AAM=fit_AAM.get_prediction(start='2013-07-31', end='2020-10-31')\n",
        "pred_AAM=pred_AAM.summary_frame(alpha=0.05)\n",
        "upper_int = pred_AAM['pi_upper']\n",
        "lower_int = pred_AAM['pi_lower']"
      ],
      "execution_count": 33,
      "outputs": []
    },
    {
      "cell_type": "markdown",
      "metadata": {
        "id": "0Wmf4sd8G091"
      },
      "source": [
        "Plot interval predictions:\n",
        "\n",
        "```plot_series()```"
      ]
    },
    {
      "cell_type": "code",
      "metadata": {
        "scrolled": true,
        "colab": {
          "base_uri": "https://localhost:8080/",
          "height": 265
        },
        "id": "xiO8A8P6G091",
        "outputId": "1cc9a5be-e86d-477c-f98a-52c4eb5ac546"
      },
      "source": [
        "# code here (0.5 pt.)\n",
        "plot_series(train, test, lower_int,upper_int, labels=['train','test','lower_int','upper_int'])\n",
        "plt.show()"
      ],
      "execution_count": 68,
      "outputs": [
        {
          "output_type": "display_data",
          "data": {
            "image/png": "[encoded data removed]",
            "text/plain": [
              "<Figure size 1152x288 with 1 Axes>"
            ]
          },
          "metadata": {
            "tags": [],
            "needs_background": "light"
          }
        }
      ]
    },
    {
      "cell_type": "markdown",
      "metadata": {
        "id": "_qULb-pYG091"
      },
      "source": [
        "### 2.5 Forecast quality metrics (2 pt.)\n",
        "[back to contents](#Contents)"
      ]
    },
    {
      "cell_type": "markdown",
      "metadata": {
        "id": "e9mykYTVG091"
      },
      "source": [
        "Calculate the following metrics for both ETS(MAA) and ETS(AAM) predictions:"
      ]
    },
    {
      "cell_type": "markdown",
      "metadata": {
        "id": "vRor8B4tG091"
      },
      "source": [
        "$MAE = \\frac{\\sum\\limits_{i=1}^n |y_i-\\hat{y}_i|}{n}$\n",
        "\n",
        "```python\n",
        "sklearn.metrics.mean_absolute_error\n",
        "```"
      ]
    },
    {
      "cell_type": "code",
      "metadata": {
        "colab": {
          "base_uri": "https://localhost:8080/"
        },
        "id": "uJ_4-qpQG092",
        "outputId": "bb567f09-71a1-4c5e-a2cb-0f2264d6ea27"
      },
      "source": [
        "# code here (0.5 pt.) MAA\n",
        "mean_absolute_error(test, fit_MAA_forecast)"
      ],
      "execution_count": 69,
      "outputs": [
        {
          "output_type": "execute_result",
          "data": {
            "text/plain": [
              "6.394546605755498"
            ]
          },
          "metadata": {
            "tags": []
          },
          "execution_count": 69
        }
      ]
    },
    {
      "cell_type": "code",
      "metadata": {
        "colab": {
          "base_uri": "https://localhost:8080/"
        },
        "id": "2RTAzvHxG093",
        "outputId": "d22145aa-8fa8-4c79-dd41-43eb8cbd06ff"
      },
      "source": [
        "# code here (0.5 pt.) AAM\n",
        "mean_absolute_error(test, fit_AAM_forecast)"
      ],
      "execution_count": 70,
      "outputs": [
        {
          "output_type": "execute_result",
          "data": {
            "text/plain": [
              "12.709161383337841"
            ]
          },
          "metadata": {
            "tags": []
          },
          "execution_count": 70
        }
      ]
    },
    {
      "cell_type": "markdown",
      "metadata": {
        "id": "V8SJvVJdG093"
      },
      "source": [
        "$MSE = \\frac{\\sum\\limits_{i=1}^n (y_i-\\hat{y}_i)^2}{n}$\n",
        "\n",
        "```python\n",
        "sklearn.metrics.mean_squared_error\n",
        "```"
      ]
    },
    {
      "cell_type": "code",
      "metadata": {
        "colab": {
          "base_uri": "https://localhost:8080/"
        },
        "id": "htn7neJrG093",
        "outputId": "a59cd01e-9573-4820-ee16-81a2a87b329c"
      },
      "source": [
        "# code here (0.5 pt.) MAA\n",
        "mean_squared_error(test, fit_MAA_forecast)"
      ],
      "execution_count": 37,
      "outputs": [
        {
          "output_type": "execute_result",
          "data": {
            "text/plain": [
              "50.57147037477893"
            ]
          },
          "metadata": {
            "tags": []
          },
          "execution_count": 37
        }
      ]
    },
    {
      "cell_type": "code",
      "metadata": {
        "colab": {
          "base_uri": "https://localhost:8080/"
        },
        "id": "RYIm0EmYG093",
        "outputId": "bed707c8-3da4-4474-9ccf-92b15f9c67af"
      },
      "source": [
        "# code here (0.5 pt.) AAM\n",
        "mean_squared_error(test, fit_AAM_forecast)"
      ],
      "execution_count": 38,
      "outputs": [
        {
          "output_type": "execute_result",
          "data": {
            "text/plain": [
              "195.9700976122845"
            ]
          },
          "metadata": {
            "tags": []
          },
          "execution_count": 38
        }
      ]
    },
    {
      "cell_type": "markdown",
      "metadata": {
        "id": "XE7NFP7BG093"
      },
      "source": [
        "$MAPE = \\frac{100}{n}\\frac{\\sum\\limits_{i=1}^n |y_i-\\hat{y}_i|}{y_i}$ \n",
        "\n",
        "```python\n",
        "def mean_absolute_percentage_error(y_true, y_pred): \n",
        "    return np.mean(np.abs((y_true - y_pred) / y_true)) * 100\n",
        "```"
      ]
    },
    {
      "cell_type": "markdown",
      "metadata": {
        "id": "UBnJDkwmG093"
      },
      "source": [
        "Create a new function to calculate MAPE"
      ]
    },
    {
      "cell_type": "code",
      "metadata": {
        "id": "KPFgSMluG094"
      },
      "source": [
        "# code here (0.5 pt.)\n",
        "def mean_absolute_percentage_error(y_true, y_pred): \n",
        "    return np.mean(np.abs((y_true - y_pred) / y_true)) * 100"
      ],
      "execution_count": 39,
      "outputs": []
    },
    {
      "cell_type": "markdown",
      "metadata": {
        "id": "vOuHy5pPG094"
      },
      "source": [
        "Calculate MAPE:"
      ]
    },
    {
      "cell_type": "code",
      "metadata": {
        "colab": {
          "base_uri": "https://localhost:8080/"
        },
        "id": "n0c5s-29G094",
        "outputId": "f12a634e-e873-4bd1-a952-2edb472e2379"
      },
      "source": [
        "# code here (0.25 pt.) MAA\n",
        "mean_absolute_percentage_error(test, fit_MAA_forecast)"
      ],
      "execution_count": 40,
      "outputs": [
        {
          "output_type": "execute_result",
          "data": {
            "text/plain": [
              "5.091701024681435"
            ]
          },
          "metadata": {
            "tags": []
          },
          "execution_count": 40
        }
      ]
    },
    {
      "cell_type": "code",
      "metadata": {
        "colab": {
          "base_uri": "https://localhost:8080/"
        },
        "id": "ra-qjO98G094",
        "outputId": "bd2ff2aa-e6f6-49b1-f550-9e77b2e4b826"
      },
      "source": [
        "# code here (0.25 pt.) AAM\n",
        "mean_absolute_percentage_error(test, fit_AAM_forecast)"
      ],
      "execution_count": 41,
      "outputs": [
        {
          "output_type": "execute_result",
          "data": {
            "text/plain": [
              "9.993524328604307"
            ]
          },
          "metadata": {
            "tags": []
          },
          "execution_count": 41
        }
      ]
    },
    {
      "cell_type": "markdown",
      "metadata": {
        "id": "O8Y9-1XQG094"
      },
      "source": [
        "### 2.6 What is the best model according to the metrics above? (1 pt.)"
      ]
    },
    {
      "cell_type": "code",
      "metadata": {
        "id": "4uCpz0rnG094"
      },
      "source": [
        "# code here (1 pt.)\n",
        "# the best one is MAA"
      ],
      "execution_count": 71,
      "outputs": []
    }
  ]
}