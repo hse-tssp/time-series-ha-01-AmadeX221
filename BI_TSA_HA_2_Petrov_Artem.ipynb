{
  "nbformat": 4,
  "nbformat_minor": 0,
  "metadata": {
    "kernelspec": {
      "display_name": "Python 3",
      "language": "python",
      "name": "python3"
    },
    "language_info": {
      "codemirror_mode": {
        "name": "ipython",
        "version": 3
      },
      "file_extension": ".py",
      "mimetype": "text/x-python",
      "name": "python",
      "nbconvert_exporter": "python",
      "pygments_lexer": "ipython3",
      "version": "3.7.0"
    },
    "colab": {
      "name": "BI_TSA_HA_2_Petrov_Artem.ipynb",
      "provenance": [],
      "collapsed_sections": [
        "jvcXSqkYJsqQ",
        "AvkZkdhfJsqS",
        "d-eqQ7-uJsqS"
      ]
    }
  },
  "cells": [
    {
      "cell_type": "markdown",
      "metadata": {
        "id": "RTeWjM3BJsp9"
      },
      "source": [
        "## Time Series Analysis: Home Assignment 2"
      ]
    },
    {
      "cell_type": "markdown",
      "metadata": {
        "id": "PQA0zn8XJsqC"
      },
      "source": [
        "due to **14.03.21 23:00** MSK\n"
      ]
    },
    {
      "cell_type": "markdown",
      "metadata": {
        "id": "8tE5ANX3JsqC"
      },
      "source": [
        "Enter your name below: "
      ]
    },
    {
      "cell_type": "code",
      "metadata": {
        "id": "BhO_dzGlJsqD"
      },
      "source": [
        "name='Petrov Artem' "
      ],
      "execution_count": 88,
      "outputs": []
    },
    {
      "cell_type": "markdown",
      "metadata": {
        "id": "lBsHRwAfJsqD"
      },
      "source": [
        "### Contents"
      ]
    },
    {
      "cell_type": "markdown",
      "metadata": {
        "id": "XKqhAXZ4JsqE"
      },
      "source": [
        "1. **Data preparation (6 points)**\n",
        "    0. Import functions \n",
        "    1. Data parsing(1.5 pt.)\n",
        "    2. Join datasets (1 pt.)\n",
        "    3. Dates transformation (2 pt.)\n",
        "    4. Plot time series (0.75 pt.)\n",
        "    5. Test and train split (0.75 pt.)\n",
        "    \n",
        " \n",
        "2. **ARIMA models (6 points)**\n",
        "\n",
        "    1. Stationarity (0.75 pt.) \n",
        "    2. AutoArima (1.5 pt.)\n",
        "    3. AutoSarima (1.5 pt.)\n",
        "    4. GridSearch (1 pt.)\n",
        "    5. Interval forecasts (1.25 pt.)\n",
        "\n",
        "    "
      ]
    },
    {
      "cell_type": "markdown",
      "metadata": {
        "id": "8V-QO-zvJsqE"
      },
      "source": [
        "## 1. Data preparation\n",
        "[back to contents](#Contents)"
      ]
    },
    {
      "cell_type": "markdown",
      "metadata": {
        "id": "oHwHXZmuJsqE"
      },
      "source": [
        "### 1.0 Import functions\n",
        "[back to contents](#Contents)"
      ]
    },
    {
      "cell_type": "code",
      "metadata": {
        "id": "w8gG4MYlJsqE"
      },
      "source": [
        "import pandas as pd\n",
        "import numpy as np\n",
        "from sktime.utils.plotting import plot_series\n",
        "from sktime.forecasting.model_selection import SlidingWindowSplitter, ForecastingGridSearchCV\n",
        "from sktime.forecasting.model_selection import temporal_train_test_split\n",
        "from sktime.forecasting.ets import AutoETS\n",
        "from sktime.forecasting.arima import AutoARIMA\n",
        "from statsmodels.tsa.stattools import adfuller\n",
        "from statsmodels.tsa.stattools import kpss\n",
        "from sktime.performance_metrics.forecasting import smape_loss"
      ],
      "execution_count": 89,
      "outputs": []
    },
    {
      "cell_type": "markdown",
      "metadata": {
        "id": "JDRX_hLIJsqF"
      },
      "source": [
        "### 1.1 Data parsing (1.5 pt.)\n",
        "[back to contents](#Contents)"
      ]
    },
    {
      "cell_type": "markdown",
      "metadata": {
        "id": "FoFh16d8JsqF"
      },
      "source": [
        "You need to parse quarterly sales data for Amazon. \n",
        "\n",
        "```dfs=pd.read_html('https://ycharts.com/companies/AMZN/revenues')```\n",
        "\n",
        "```read_html``` reads HTML tables.  \n"
      ]
    },
    {
      "cell_type": "code",
      "metadata": {
        "id": "Ou_hQ0edJsqF"
      },
      "source": [
        "# code here (0.25 pt.)\n",
        "dfs=pd.read_html('https://ycharts.com/companies/AMZN/revenues')"
      ],
      "execution_count": 90,
      "outputs": []
    },
    {
      "cell_type": "markdown",
      "metadata": {
        "id": "rbGAPnF8JsqF"
      },
      "source": [
        "How many tables have been read by ```read_html```?\n",
        "\n",
        "To answer this question find the length of the list dfs: ```len(dfs)```"
      ]
    },
    {
      "cell_type": "code",
      "metadata": {
        "colab": {
          "base_uri": "https://localhost:8080/"
        },
        "id": "6btuvosYJsqF",
        "outputId": "c0809ab0-6ea9-4891-ea51-bf20903cde80"
      },
      "source": [
        "# code here (0.25 pt.)\n",
        "len(dfs)"
      ],
      "execution_count": 91,
      "outputs": [
        {
          "output_type": "execute_result",
          "data": {
            "text/plain": [
              "5"
            ]
          },
          "metadata": {
            "tags": []
          },
          "execution_count": 91
        }
      ]
    },
    {
      "cell_type": "markdown",
      "metadata": {
        "id": "BmVIuiBxxgtO"
      },
      "source": [
        "There are 5 tables"
      ]
    },
    {
      "cell_type": "markdown",
      "metadata": {
        "id": "9hXHH1a5JsqG"
      },
      "source": [
        "Which tables from ```dfs``` will you use further?"
      ]
    },
    {
      "cell_type": "code",
      "metadata": {
        "colab": {
          "base_uri": "https://localhost:8080/",
          "height": 36
        },
        "id": "29NOZ-J8JsqG",
        "outputId": "652332a8-75bf-4fbe-e040-aed8dbb0b402"
      },
      "source": [
        "# code here (0.5 pt.)\n",
        "\n",
        "''' dfs[0] and dfs[1]'''"
      ],
      "execution_count": 92,
      "outputs": [
        {
          "output_type": "execute_result",
          "data": {
            "application/vnd.google.colaboratory.intrinsic+json": {
              "type": "string"
            },
            "text/plain": [
              "' dfs[0] and dfs[1] because they contain information that we will need'"
            ]
          },
          "metadata": {
            "tags": []
          },
          "execution_count": 92
        }
      ]
    },
    {
      "cell_type": "markdown",
      "metadata": {
        "id": "LZyGmW1VJsqG"
      },
      "source": [
        "Create a new dataframe for sales from 2014 to 2020\n",
        "\n",
        "```df1=dfs[0]```"
      ]
    },
    {
      "cell_type": "code",
      "metadata": {
        "id": "X_PFpv2dJsqG"
      },
      "source": [
        "# code here (0.25 pt.)\n",
        "df1=dfs[0]"
      ],
      "execution_count": 93,
      "outputs": []
    },
    {
      "cell_type": "markdown",
      "metadata": {
        "id": "y_S1u08rJsqG"
      },
      "source": [
        "Create a new dataframe for sales from 2008 to 2014\n",
        "\n",
        "```df2=dfs[1]```"
      ]
    },
    {
      "cell_type": "code",
      "metadata": {
        "id": "XotxLKX7JsqG"
      },
      "source": [
        "# code here (0.25 pt.)\n",
        "df2=dfs[1]"
      ],
      "execution_count": 94,
      "outputs": []
    },
    {
      "cell_type": "markdown",
      "metadata": {
        "id": "vg8HLfLvJsqH"
      },
      "source": [
        "### 1.2 Join datasets (1 pt.)\n",
        "[back to contents](#Contents)"
      ]
    },
    {
      "cell_type": "markdown",
      "metadata": {
        "id": "2pKIdyhUJsqH"
      },
      "source": [
        "Join two datasets ```df1, df2```:\n",
        "\n",
        "```joined_data=np.concatenate([...,...])```"
      ]
    },
    {
      "cell_type": "code",
      "metadata": {
        "id": "oaehgvYJJsqH"
      },
      "source": [
        "# code here (0.25 pt.)\n",
        "joined_data=np.concatenate([df1,df2])"
      ],
      "execution_count": 95,
      "outputs": []
    },
    {
      "cell_type": "markdown",
      "metadata": {
        "id": "QZBqMz93JsqH"
      },
      "source": [
        "Change a format of ```joined_data``` to pandas dataframe:\n",
        "\n",
        "```df=pd.DataFrame(...)```"
      ]
    },
    {
      "cell_type": "code",
      "metadata": {
        "id": "GLxZaA8RJsqH"
      },
      "source": [
        "# code here (0.25 pt.)\n",
        "df = pd.DataFrame(joined_data)"
      ],
      "execution_count": 130,
      "outputs": []
    },
    {
      "cell_type": "markdown",
      "metadata": {
        "id": "vQxt9N1yJsqH"
      },
      "source": [
        "Rename columns to ```'date'``` and ```'sales'```:\n",
        "\n",
        "```df.columns = ['...','...']```"
      ]
    },
    {
      "cell_type": "code",
      "metadata": {
        "id": "-UGynGqOJsqH"
      },
      "source": [
        "# code here (0.25 pt.)\n",
        "df.columns = [\"date\",\"sales\"]"
      ],
      "execution_count": 131,
      "outputs": []
    },
    {
      "cell_type": "markdown",
      "metadata": {
        "id": "Sualsrd8JsqI"
      },
      "source": [
        "Delete 'B' in each row in ``` 'sales' ``` column and transform it to float format:\n",
        "\n",
        "```df['...']=df['...'].apply(lambda x: float(x[:len(x)-1]))```\n",
        "\n",
        "lambda function ```lambda x:``` applies a function after  ```:```  to each row in ```df['...']```.\n",
        "\n",
        "```float(...)``` changes a format to float. This part of the code ```x[:len(x)-1]``` returns a string ```x``` without the last character ```'B'```. "
      ]
    },
    {
      "cell_type": "code",
      "metadata": {
        "id": "c7edx7cYJsqI"
      },
      "source": [
        "# code here (0.25 pt.)\n",
        "df['sales']=df['sales'].apply(lambda x: float(x[:len(x)-1]))"
      ],
      "execution_count": 132,
      "outputs": []
    },
    {
      "cell_type": "markdown",
      "metadata": {
        "id": "DBoA9O5YJsqI"
      },
      "source": [
        "### 1.3 Dates transformation (2 pt.)\n",
        "[back to contents](#Contents)"
      ]
    },
    {
      "cell_type": "markdown",
      "metadata": {
        "id": "9b7uPuM8JsqI"
      },
      "source": [
        "How are dates represented in the original dataset? "
      ]
    },
    {
      "cell_type": "code",
      "metadata": {
        "colab": {
          "base_uri": "https://localhost:8080/",
          "height": 36
        },
        "id": "IUig5dkCJsqI",
        "outputId": "8b21f666-b080-4a11-9991-96f63523a452"
      },
      "source": [
        "# code here (0.25 pt.)\n",
        "'''Month. Day, Year(e.g Dec. 31, 2020)'''"
      ],
      "execution_count": 103,
      "outputs": [
        {
          "output_type": "execute_result",
          "data": {
            "application/vnd.google.colaboratory.intrinsic+json": {
              "type": "string"
            },
            "text/plain": [
              "'Month. Day, Year(e.g Dec. 31, 2020)'"
            ]
          },
          "metadata": {
            "tags": []
          },
          "execution_count": 103
        }
      ]
    },
    {
      "cell_type": "markdown",
      "metadata": {
        "id": "LnDjN56sJsqI"
      },
      "source": [
        "Change abbreviations of months to their names.\n",
        "\n",
        "Create a dictionary with keys = abbreviations and values = months' names. \n",
        "\n",
        "dict_month={'Dec.':'December','Sept.':'September','June':'June','March':'March'}\n",
        "\n",
        "\n",
        "```df['date']=df['date'].apply(lambda x: dict_month[x[0:len(x)-9]]+x[len(x)-9:len(x)])```"
      ]
    },
    {
      "cell_type": "code",
      "metadata": {
        "id": "L4r_6vUnJsqJ"
      },
      "source": [
        "# code here (0.5 pt.)\n",
        "dict_month={'Dec.':'December','Sept.':'September','June':'June','March':'March'}\n",
        "df['date']=df['date'].apply(lambda x: dict_month[x[0:len(x)-9]]+x[len(x)-9:len(x)])"
      ],
      "execution_count": 104,
      "outputs": []
    },
    {
      "cell_type": "markdown",
      "metadata": {
        "id": "i2Xhj4qUJsqJ"
      },
      "source": [
        "Transform dates to datetime format:\n",
        "\n",
        "``` df['...']=pd.to_datetime(df['...'], format='...') ```\n",
        "\n",
        "Use the appropriatee format. For example, for ```'2020---13 : December'``` the format is ```'%Y---%d : %B'```.\n",
        "\n",
        "For ```'11, March.,2013'``` you need to use  ```'%d, %B.,%Y'```\n"
      ]
    },
    {
      "cell_type": "code",
      "metadata": {
        "id": "YCn6Pvz9JsqJ"
      },
      "source": [
        "# code here (0.5 pt.)\n",
        "df['date']=pd.to_datetime(df['date'], format='%B %d, %Y')"
      ],
      "execution_count": 106,
      "outputs": []
    },
    {
      "cell_type": "markdown",
      "metadata": {
        "id": "DBUkYYpOJsqJ"
      },
      "source": [
        "Change index to dates:\n",
        "\n",
        "``` df.index=.... ```"
      ]
    },
    {
      "cell_type": "code",
      "metadata": {
        "id": "_GV69_jhJsqJ"
      },
      "source": [
        "# code here (0.1 pt.)\n",
        "df.index= df[\"date\"]"
      ],
      "execution_count": 107,
      "outputs": []
    },
    {
      "cell_type": "markdown",
      "metadata": {
        "id": "Tv0THXr2JsqJ"
      },
      "source": [
        "What is the size of the dataset?\n",
        "\n",
        "use ```.shape```"
      ]
    },
    {
      "cell_type": "code",
      "metadata": {
        "colab": {
          "base_uri": "https://localhost:8080/"
        },
        "id": "IBHPtkk2JsqJ",
        "outputId": "4d5fed2e-b8ef-454b-870c-381526865630"
      },
      "source": [
        "# code here (0.1 pt.)\n",
        "df.shape"
      ],
      "execution_count": 108,
      "outputs": [
        {
          "output_type": "execute_result",
          "data": {
            "text/plain": [
              "(50, 2)"
            ]
          },
          "metadata": {
            "tags": []
          },
          "execution_count": 108
        }
      ]
    },
    {
      "cell_type": "markdown",
      "metadata": {
        "id": "kWnt5OdKJsqJ"
      },
      "source": [
        "Drop columns ['date']:\n",
        "\n",
        "```df=df.drop(..., axis=1)```"
      ]
    },
    {
      "cell_type": "code",
      "metadata": {
        "id": "EwJXfq0iJsqK"
      },
      "source": [
        "# code here (0.2 pt.)\n",
        "df=df.drop(\"date\", axis=1)"
      ],
      "execution_count": 109,
      "outputs": []
    },
    {
      "cell_type": "markdown",
      "metadata": {
        "id": "wVOQN8qCJsqK"
      },
      "source": [
        "What is the size of the dataset now?"
      ]
    },
    {
      "cell_type": "code",
      "metadata": {
        "colab": {
          "base_uri": "https://localhost:8080/"
        },
        "id": "zJsshYSoJsqK",
        "outputId": "b07fe218-679a-47be-f660-5ca44180c80a"
      },
      "source": [
        "# code here (0.1 pt.)\n",
        "df.shape"
      ],
      "execution_count": 110,
      "outputs": [
        {
          "output_type": "execute_result",
          "data": {
            "text/plain": [
              "(50, 1)"
            ]
          },
          "metadata": {
            "tags": []
          },
          "execution_count": 110
        }
      ]
    },
    {
      "cell_type": "markdown",
      "metadata": {
        "id": "AE6uE4c1JsqK"
      },
      "source": [
        "Change the frequency of the data to make x-labels readable:\n",
        "\n",
        "```df.index=df.index.to_period('...')```\n",
        "\n",
        "use ```'Q' ``` for quarterly data, ```'M' ``` for monthly data. "
      ]
    },
    {
      "cell_type": "code",
      "metadata": {
        "id": "1qt4Gh90JsqK"
      },
      "source": [
        "# code here (0.25 pt.)\n",
        "df.index=df.index.to_period('Q')"
      ],
      "execution_count": 111,
      "outputs": []
    },
    {
      "cell_type": "markdown",
      "metadata": {
        "id": "CTdt_8MByn9M"
      },
      "source": [
        "We will use Q because our data is distributed Quarterly "
      ]
    },
    {
      "cell_type": "markdown",
      "metadata": {
        "id": "Lmh7eoyOJsqK"
      },
      "source": [
        "### 1.4 Plot time series (0.75 pt.)\n",
        "[back to contents](#Contents)"
      ]
    },
    {
      "cell_type": "markdown",
      "metadata": {
        "id": "1AuO6Wy7JsqL"
      },
      "source": [
        "transform data frame column to series:\n",
        "\n",
        "```y=df['sales']```"
      ]
    },
    {
      "cell_type": "code",
      "metadata": {
        "id": "Yykrff-jJsqL"
      },
      "source": [
        "# code here (0.25 pt.)\n",
        "y = df[\"sales\"]"
      ],
      "execution_count": 112,
      "outputs": []
    },
    {
      "cell_type": "markdown",
      "metadata": {
        "id": "UwMRQFtBJsqL"
      },
      "source": [
        "```plot_series``` gets a series as an argument, whose dates sorted in ascending order.\n",
        "Transform your time series by changing descending order to ascending order:\n",
        "\n",
        "apply ```np.flip``` to ```y``` and name the result ```y```"
      ]
    },
    {
      "cell_type": "code",
      "metadata": {
        "id": "lGTE1kZrJsqL"
      },
      "source": [
        "# code here (0.25 pt.)\n",
        "y = np.flip(y)"
      ],
      "execution_count": 113,
      "outputs": []
    },
    {
      "cell_type": "markdown",
      "metadata": {
        "id": "ZKgeqMIhJsqL"
      },
      "source": [
        "Plot the series using ```plot_series()```"
      ]
    },
    {
      "cell_type": "code",
      "metadata": {
        "colab": {
          "base_uri": "https://localhost:8080/",
          "height": 265
        },
        "id": "yoaX35lsJsqL",
        "outputId": "d812ea12-aeb6-4857-d828-4c4c3cfb49ad"
      },
      "source": [
        "# code here (0.25 pt.)\n",
        "_=plot_series(y)"
      ],
      "execution_count": 114,
      "outputs": [
        {
          "output_type": "display_data",
          "data": {
            "image/png": "[encoded data removed]",
            "text/plain": [
              "<Figure size 1152x288 with 1 Axes>"
            ]
          },
          "metadata": {
            "tags": [],
            "needs_background": "light"
          }
        }
      ]
    },
    {
      "cell_type": "markdown",
      "metadata": {
        "id": "YVyKwVTnJsqL"
      },
      "source": [
        "### 1.5 Split the data (0.75 pt.)\n",
        "[back to contents](#Contents)"
      ]
    },
    {
      "cell_type": "markdown",
      "metadata": {
        "id": "rYmHi3WtJsqM"
      },
      "source": [
        "Split the data into train and test samples:\n",
        "\n",
        "``` temporal_train_test_split(...) ```\n",
        "\n",
        "choose ``` test_size=0.2 ```"
      ]
    },
    {
      "cell_type": "code",
      "metadata": {
        "id": "Ayke79gYJsqM"
      },
      "source": [
        "# code here (0.5 pt.)\n",
        "y_train, y_test = temporal_train_test_split(y, test_size = 0.2)"
      ],
      "execution_count": 115,
      "outputs": []
    },
    {
      "cell_type": "markdown",
      "metadata": {
        "id": "oV_FKq70JsqM"
      },
      "source": [
        "plot train and test samples using ```plot_series``` "
      ]
    },
    {
      "cell_type": "code",
      "metadata": {
        "colab": {
          "base_uri": "https://localhost:8080/",
          "height": 265
        },
        "id": "5mA7ubpNJsqM",
        "outputId": "f84ae2b2-55f6-4dd6-ddbd-217aeedfe11f"
      },
      "source": [
        "# code here (0.25 pt.)\n",
        "_=plot_series(y_train,y_test)"
      ],
      "execution_count": 116,
      "outputs": [
        {
          "output_type": "display_data",
          "data": {
            "image/png": "[encoded data removed]",
            "text/plain": [
              "<Figure size 1152x288 with 1 Axes>"
            ]
          },
          "metadata": {
            "tags": [],
            "needs_background": "light"
          }
        }
      ]
    },
    {
      "cell_type": "markdown",
      "metadata": {
        "id": "ZdWG6I0WJsqM"
      },
      "source": [
        "## 2. ARIMA models (6 pt.)\n",
        "[back to contents](#Contents)"
      ]
    },
    {
      "cell_type": "markdown",
      "metadata": {
        "id": "_5NMGuX7JsqM"
      },
      "source": [
        "### 2.1 Check stationarity (0.75 pt.)\n",
        "[back to contents](#Contents)"
      ]
    },
    {
      "cell_type": "markdown",
      "metadata": {
        "id": "CtSYLscsJsqM"
      },
      "source": [
        "Check whether the time series  is stationary\n",
        "\n",
        "Use ```adfuller``` and ```kpss```"
      ]
    },
    {
      "cell_type": "code",
      "metadata": {
        "colab": {
          "base_uri": "https://localhost:8080/"
        },
        "id": "3lfq3geYJsqN",
        "outputId": "8b7119c6-5212-49f0-d561-96cb966a08fa"
      },
      "source": [
        "# code here (0.15 pt.)\n",
        "adfuller(y_train)[1] < 0.05"
      ],
      "execution_count": 118,
      "outputs": [
        {
          "output_type": "execute_result",
          "data": {
            "text/plain": [
              "False"
            ]
          },
          "metadata": {
            "tags": []
          },
          "execution_count": 118
        }
      ]
    },
    {
      "cell_type": "code",
      "metadata": {
        "colab": {
          "base_uri": "https://localhost:8080/"
        },
        "id": "d3ICuM3PJsqN",
        "outputId": "4fdb76d1-87cf-40ff-f917-1fdb16017545"
      },
      "source": [
        "# code here (0.15 pt.)\n",
        "kpss(y_train)[1]>0.05"
      ],
      "execution_count": 119,
      "outputs": [
        {
          "output_type": "execute_result",
          "data": {
            "text/plain": [
              "False"
            ]
          },
          "metadata": {
            "tags": []
          },
          "execution_count": 119
        }
      ]
    },
    {
      "cell_type": "markdown",
      "metadata": {
        "id": "m5AQuDdKJsqN"
      },
      "source": [
        "If it is not stationary, take differences until the time series becomes stationary\n",
        "\n",
        "```np.diff(y_train)```"
      ]
    },
    {
      "cell_type": "code",
      "metadata": {
        "colab": {
          "base_uri": "https://localhost:8080/"
        },
        "id": "HpT_TJR0JsqN",
        "outputId": "997402ce-732a-4a37-bb89-3731ac23fe81"
      },
      "source": [
        "# code here (0.15 pt.)\n",
        "y_train_diff = np.diff(y_train)\n",
        "adfuller(y_train_diff)[1]<0.05\n",
        "kpss(y_train_d)[1]>0.05"
      ],
      "execution_count": 120,
      "outputs": [
        {
          "output_type": "execute_result",
          "data": {
            "text/plain": [
              "True"
            ]
          },
          "metadata": {
            "tags": []
          },
          "execution_count": 120
        }
      ]
    },
    {
      "cell_type": "code",
      "metadata": {
        "colab": {
          "base_uri": "https://localhost:8080/"
        },
        "id": "53WAZi8YJsqN",
        "outputId": "8c89225b-48c0-448e-eb82-e6a1a7cdb76e"
      },
      "source": [
        "# code here (0.15 pt.)\n",
        "y_test_diff = np.diff(y_test)\n",
        "adfuller(y_test_diff)[1]<0.05\n",
        "kpss(y_test_diff)[1]>0.05"
      ],
      "execution_count": 61,
      "outputs": [
        {
          "output_type": "execute_result",
          "data": {
            "text/plain": [
              "True"
            ]
          },
          "metadata": {
            "tags": []
          },
          "execution_count": 61
        }
      ]
    },
    {
      "cell_type": "markdown",
      "metadata": {
        "id": "jDiiEXfJJsqN"
      },
      "source": [
        "What is the order of integration?"
      ]
    },
    {
      "cell_type": "code",
      "metadata": {
        "colab": {
          "base_uri": "https://localhost:8080/",
          "height": 36
        },
        "id": "p1FjGPS_JsqN",
        "outputId": "9cfa0dbe-e534-408a-a758-3bac7660682d"
      },
      "source": [
        "# code here (0.15 pt.)\n",
        "'''One'''"
      ],
      "execution_count": 121,
      "outputs": [
        {
          "output_type": "execute_result",
          "data": {
            "application/vnd.google.colaboratory.intrinsic+json": {
              "type": "string"
            },
            "text/plain": [
              "'One'"
            ]
          },
          "metadata": {
            "tags": []
          },
          "execution_count": 121
        }
      ]
    },
    {
      "cell_type": "markdown",
      "metadata": {
        "id": "DByT8LG0JsqN"
      },
      "source": [
        "### 2.2 Estimate AutoArima (1.5 pt.)\n",
        "[back to contents](#Contents)"
      ]
    },
    {
      "cell_type": "markdown",
      "metadata": {
        "id": "t1tpyKYrJsqO"
      },
      "source": [
        "For this part use ```AutoARIMA``` from ```sktime```\n",
        "\n",
        "Estimate AutoArima and name the result ```model_AArima```:\n",
        "\n",
        "```AutoARIMA(suppress_warnings=True,start_p=2, max_p=4, start_q=2, max_q=4, d=1)```\n",
        "\n",
        "```model_AArima.fit(...)```\n"
      ]
    },
    {
      "cell_type": "code",
      "metadata": {
        "colab": {
          "base_uri": "https://localhost:8080/"
        },
        "id": "Mf1Ni0CxJsqO",
        "outputId": "6abc657a-256a-493f-9ea1-898d2a1b5f06"
      },
      "source": [
        "# code here (0.25 pt.)\n",
        "model_AArima = AutoARIMA(suppress_warnings=True,start_p=2, max_p=4, start_q=2, max_q=4, d=2)\n",
        "model_AArima.fit(y_train)"
      ],
      "execution_count": 122,
      "outputs": [
        {
          "output_type": "execute_result",
          "data": {
            "text/plain": [
              "AutoARIMA(d=2, max_p=4, max_q=4, suppress_warnings=True)"
            ]
          },
          "metadata": {
            "tags": []
          },
          "execution_count": 122
        }
      ]
    },
    {
      "cell_type": "markdown",
      "metadata": {
        "id": "bbNvnwM9JsqO"
      },
      "source": [
        "What specification of ```ARIMA(p,d,q)``` has been chosen as the best?\n",
        "\n",
        "```.summary()``` "
      ]
    },
    {
      "cell_type": "code",
      "metadata": {
        "scrolled": true,
        "colab": {
          "base_uri": "https://localhost:8080/",
          "height": 486
        },
        "id": "xBdLoguZJsqO",
        "outputId": "89c89293-bddd-4b42-a431-e664bc511731"
      },
      "source": [
        "# code here (0.25 pt.)\n",
        "model_AArima.summary()"
      ],
      "execution_count": 123,
      "outputs": [
        {
          "output_type": "execute_result",
          "data": {
            "text/html": [
              "<table class=\"simpletable\">\n",
              "<caption>SARIMAX Results</caption>\n",
              "<tr>\n",
              "  <th>Dep. Variable:</th>           <td>y</td>        <th>  No. Observations:  </th>   <td>40</td>   \n",
              "</tr>\n",
              "<tr>\n",
              "  <th>Model:</th>           <td>SARIMAX(3, 2, 1)</td> <th>  Log Likelihood     </th> <td>-70.378</td>\n",
              "</tr>\n",
              "<tr>\n",
              "  <th>Date:</th>            <td>Tue, 09 Mar 2021</td> <th>  AIC                </th> <td>152.756</td>\n",
              "</tr>\n",
              "<tr>\n",
              "  <th>Time:</th>                <td>21:03:11</td>     <th>  BIC                </th> <td>162.582</td>\n",
              "</tr>\n",
              "<tr>\n",
              "  <th>Sample:</th>                  <td>0</td>        <th>  HQIC               </th> <td>156.252</td>\n",
              "</tr>\n",
              "<tr>\n",
              "  <th></th>                       <td> - 40</td>      <th>                     </th>    <td> </td>   \n",
              "</tr>\n",
              "<tr>\n",
              "  <th>Covariance Type:</th>        <td>opg</td>       <th>                     </th>    <td> </td>   \n",
              "</tr>\n",
              "</table>\n",
              "<table class=\"simpletable\">\n",
              "<tr>\n",
              "      <td></td>         <th>coef</th>     <th>std err</th>      <th>z</th>      <th>P>|z|</th>  <th>[0.025</th>    <th>0.975]</th>  \n",
              "</tr>\n",
              "<tr>\n",
              "  <th>intercept</th> <td>    0.3920</td> <td>    0.396</td> <td>    0.989</td> <td> 0.322</td> <td>   -0.385</td> <td>    1.169</td>\n",
              "</tr>\n",
              "<tr>\n",
              "  <th>ar.L1</th>     <td>   -1.0031</td> <td>    0.055</td> <td>  -18.158</td> <td> 0.000</td> <td>   -1.111</td> <td>   -0.895</td>\n",
              "</tr>\n",
              "<tr>\n",
              "  <th>ar.L2</th>     <td>   -0.9979</td> <td>    0.040</td> <td>  -24.955</td> <td> 0.000</td> <td>   -1.076</td> <td>   -0.920</td>\n",
              "</tr>\n",
              "<tr>\n",
              "  <th>ar.L3</th>     <td>   -0.9894</td> <td>    0.015</td> <td>  -67.970</td> <td> 0.000</td> <td>   -1.018</td> <td>   -0.961</td>\n",
              "</tr>\n",
              "<tr>\n",
              "  <th>ma.L1</th>     <td>    0.1338</td> <td>    0.212</td> <td>    0.631</td> <td> 0.528</td> <td>   -0.282</td> <td>    0.549</td>\n",
              "</tr>\n",
              "<tr>\n",
              "  <th>sigma2</th>    <td>    1.7384</td> <td>    0.348</td> <td>    4.999</td> <td> 0.000</td> <td>    1.057</td> <td>    2.420</td>\n",
              "</tr>\n",
              "</table>\n",
              "<table class=\"simpletable\">\n",
              "<tr>\n",
              "  <th>Ljung-Box (L1) (Q):</th>     <td>0.04</td> <th>  Jarque-Bera (JB):  </th> <td>43.44</td>\n",
              "</tr>\n",
              "<tr>\n",
              "  <th>Prob(Q):</th>                <td>0.83</td> <th>  Prob(JB):          </th> <td>0.00</td> \n",
              "</tr>\n",
              "<tr>\n",
              "  <th>Heteroskedasticity (H):</th> <td>4.77</td> <th>  Skew:              </th> <td>1.49</td> \n",
              "</tr>\n",
              "<tr>\n",
              "  <th>Prob(H) (two-sided):</th>    <td>0.01</td> <th>  Kurtosis:          </th> <td>7.31</td> \n",
              "</tr>\n",
              "</table><br/><br/>Warnings:<br/>[1] Covariance matrix calculated using the outer product of gradients (complex-step)."
            ],
            "text/plain": [
              "<class 'statsmodels.iolib.summary.Summary'>\n",
              "\"\"\"\n",
              "                               SARIMAX Results                                \n",
              "==============================================================================\n",
              "Dep. Variable:                      y   No. Observations:                   40\n",
              "Model:               SARIMAX(3, 2, 1)   Log Likelihood                 -70.378\n",
              "Date:                Tue, 09 Mar 2021   AIC                            152.756\n",
              "Time:                        21:03:11   BIC                            162.582\n",
              "Sample:                             0   HQIC                           156.252\n",
              "                                 - 40                                         \n",
              "Covariance Type:                  opg                                         \n",
              "==============================================================================\n",
              "                 coef    std err          z      P>|z|      [0.025      0.975]\n",
              "------------------------------------------------------------------------------\n",
              "intercept      0.3920      0.396      0.989      0.322      -0.385       1.169\n",
              "ar.L1         -1.0031      0.055    -18.158      0.000      -1.111      -0.895\n",
              "ar.L2         -0.9979      0.040    -24.955      0.000      -1.076      -0.920\n",
              "ar.L3         -0.9894      0.015    -67.970      0.000      -1.018      -0.961\n",
              "ma.L1          0.1338      0.212      0.631      0.528      -0.282       0.549\n",
              "sigma2         1.7384      0.348      4.999      0.000       1.057       2.420\n",
              "===================================================================================\n",
              "Ljung-Box (L1) (Q):                   0.04   Jarque-Bera (JB):                43.44\n",
              "Prob(Q):                              0.83   Prob(JB):                         0.00\n",
              "Heteroskedasticity (H):               4.77   Skew:                             1.49\n",
              "Prob(H) (two-sided):                  0.01   Kurtosis:                         7.31\n",
              "===================================================================================\n",
              "\n",
              "Warnings:\n",
              "[1] Covariance matrix calculated using the outer product of gradients (complex-step).\n",
              "\"\"\""
            ]
          },
          "metadata": {
            "tags": []
          },
          "execution_count": 123
        }
      ]
    },
    {
      "cell_type": "code",
      "metadata": {
        "colab": {
          "base_uri": "https://localhost:8080/"
        },
        "id": "4RDV2bynJsqP",
        "outputId": "2d9b1c3a-0121-4ed9-b9c1-5de40d42c80c"
      },
      "source": [
        "# code here (0.5 pt.)\n",
        "print('ARIMA(3,2,1)')"
      ],
      "execution_count": 124,
      "outputs": [
        {
          "output_type": "stream",
          "text": [
            "ARIMA(3,2,1)\n"
          ],
          "name": "stdout"
        }
      ]
    },
    {
      "cell_type": "markdown",
      "metadata": {
        "id": "C8Bb1-cJJsqQ"
      },
      "source": [
        "Make predictions for ```fh=np.arange(len(...)) + 1``` \n",
        "\n",
        "```model_AArima.predict(fh=...)```"
      ]
    },
    {
      "cell_type": "code",
      "metadata": {
        "id": "VC-yI2NhJsqQ"
      },
      "source": [
        "# code here (0.25 pt.)\n",
        "y_pred_AArima = model_AArima.predict(fh=np.arange(len(y_test)) + 1)"
      ],
      "execution_count": 125,
      "outputs": []
    },
    {
      "cell_type": "markdown",
      "metadata": {
        "id": "Hf28LAuoJsqQ"
      },
      "source": [
        "Plot ```y_train, y_test, y_pred_AArima``` using ```plot_series(...)```and calculate SMAPE forecast quality metric:```smape_loss(...)```"
      ]
    },
    {
      "cell_type": "code",
      "metadata": {
        "colab": {
          "base_uri": "https://localhost:8080/",
          "height": 283
        },
        "id": "Y6ZZ5oJ9JsqQ",
        "outputId": "7f8f35bc-1669-4c33-c75f-c94cafbcf590"
      },
      "source": [
        "# code here (0.25 pt.)\n",
        "plot_series(y_train, y_test, y_pred_AArima)\n",
        "smape_loss(y_test, y_pred_AArima)"
      ],
      "execution_count": 126,
      "outputs": [
        {
          "output_type": "execute_result",
          "data": {
            "text/plain": [
              "0.07016679656727909"
            ]
          },
          "metadata": {
            "tags": []
          },
          "execution_count": 126
        },
        {
          "output_type": "display_data",
          "data": {
            "image/png": "[encoded data removed]",
            "text/plain": [
              "<Figure size 1152x288 with 1 Axes>"
            ]
          },
          "metadata": {
            "tags": [],
            "needs_background": "light"
          }
        }
      ]
    },
    {
      "cell_type": "markdown",
      "metadata": {
        "id": "jvcXSqkYJsqQ"
      },
      "source": [
        "### 2.3 Estimate AutoSarima (1.5 pt.)\n",
        "[back to contents](#Contents)"
      ]
    },
    {
      "cell_type": "markdown",
      "metadata": {
        "id": "EJ7xBrR6JsqQ"
      },
      "source": [
        "For this part use ```AutoARIMA``` from ```sktime``` as well\n",
        "\n",
        "Estimate AutoSarima and name the result ```model_ASArima```\n",
        "\n",
        "The only difference from AutoArima is the seasonality period inside ```AutoARIMA```:\n",
        "\n",
        "```AutoARIMA(sp=...,suppress_warnings=True,start_p=2, max_p=4, start_q=2, max_q=4, d=1)```\n",
        "\n",
        "```model_ASArima.fit(...)```\n"
      ]
    },
    {
      "cell_type": "code",
      "metadata": {
        "colab": {
          "base_uri": "https://localhost:8080/"
        },
        "id": "CoFJ0h1UJsqR",
        "outputId": "9d08f5da-e2e6-4910-a478-6b07afbd8fad"
      },
      "source": [
        "# code here (0.25 pt.)\n",
        "model_ASArima=AutoARIMA(sp=4,suppress_warnings=True,start_p=2, max_p=4, start_q=2, max_q=4, d=2)\n",
        "model_ASArima.fit(y_train)"
      ],
      "execution_count": 79,
      "outputs": [
        {
          "output_type": "execute_result",
          "data": {
            "text/plain": [
              "AutoARIMA(d=2, max_p=4, max_q=4, sp=4, suppress_warnings=True)"
            ]
          },
          "metadata": {
            "tags": []
          },
          "execution_count": 79
        }
      ]
    },
    {
      "cell_type": "markdown",
      "metadata": {
        "id": "8wdfLlk7JsqR"
      },
      "source": [
        "What specification of ```ARIMA(p,d,q)(P,D,Q)s``` has been chosen as the best?\n",
        "\n",
        "```.summary()``` "
      ]
    },
    {
      "cell_type": "code",
      "metadata": {
        "colab": {
          "base_uri": "https://localhost:8080/",
          "height": 507
        },
        "id": "DAlkwdWmJsqR",
        "outputId": "85683bed-4251-4fe2-a58b-7690bfbae800"
      },
      "source": [
        "# code here (0.25 pt.)\n",
        "model_ASArima.summary()"
      ],
      "execution_count": 80,
      "outputs": [
        {
          "output_type": "execute_result",
          "data": {
            "text/html": [
              "<table class=\"simpletable\">\n",
              "<caption>SARIMAX Results</caption>\n",
              "<tr>\n",
              "  <th>Dep. Variable:</th>                  <td>y</td>               <th>  No. Observations:  </th>   <td>40</td>   \n",
              "</tr>\n",
              "<tr>\n",
              "  <th>Model:</th>           <td>SARIMAX(2, 2, 2)x(1, 1, [], 4)</td> <th>  Log Likelihood     </th> <td>-44.817</td>\n",
              "</tr>\n",
              "<tr>\n",
              "  <th>Date:</th>                   <td>Tue, 09 Mar 2021</td>        <th>  AIC                </th> <td>103.635</td>\n",
              "</tr>\n",
              "<tr>\n",
              "  <th>Time:</th>                       <td>19:38:26</td>            <th>  BIC                </th> <td>114.319</td>\n",
              "</tr>\n",
              "<tr>\n",
              "  <th>Sample:</th>                         <td>0</td>               <th>  HQIC               </th> <td>107.278</td>\n",
              "</tr>\n",
              "<tr>\n",
              "  <th></th>                              <td> - 40</td>             <th>                     </th>    <td> </td>   \n",
              "</tr>\n",
              "<tr>\n",
              "  <th>Covariance Type:</th>               <td>opg</td>              <th>                     </th>    <td> </td>   \n",
              "</tr>\n",
              "</table>\n",
              "<table class=\"simpletable\">\n",
              "<tr>\n",
              "      <td></td>         <th>coef</th>     <th>std err</th>      <th>z</th>      <th>P>|z|</th>  <th>[0.025</th>    <th>0.975]</th>  \n",
              "</tr>\n",
              "<tr>\n",
              "  <th>intercept</th> <td>    0.0032</td> <td>    0.011</td> <td>    0.294</td> <td> 0.769</td> <td>   -0.018</td> <td>    0.025</td>\n",
              "</tr>\n",
              "<tr>\n",
              "  <th>ar.L1</th>     <td>    1.2006</td> <td>    0.118</td> <td>   10.217</td> <td> 0.000</td> <td>    0.970</td> <td>    1.431</td>\n",
              "</tr>\n",
              "<tr>\n",
              "  <th>ar.L2</th>     <td>   -0.8164</td> <td>    0.100</td> <td>   -8.137</td> <td> 0.000</td> <td>   -1.013</td> <td>   -0.620</td>\n",
              "</tr>\n",
              "<tr>\n",
              "  <th>ma.L1</th>     <td>   -1.8531</td> <td>    0.555</td> <td>   -3.337</td> <td> 0.001</td> <td>   -2.941</td> <td>   -0.765</td>\n",
              "</tr>\n",
              "<tr>\n",
              "  <th>ma.L2</th>     <td>    0.9364</td> <td>    0.556</td> <td>    1.684</td> <td> 0.092</td> <td>   -0.153</td> <td>    2.026</td>\n",
              "</tr>\n",
              "<tr>\n",
              "  <th>ar.S.L4</th>   <td>    0.8846</td> <td>    0.177</td> <td>    5.001</td> <td> 0.000</td> <td>    0.538</td> <td>    1.231</td>\n",
              "</tr>\n",
              "<tr>\n",
              "  <th>sigma2</th>    <td>    0.5969</td> <td>    0.398</td> <td>    1.498</td> <td> 0.134</td> <td>   -0.184</td> <td>    1.378</td>\n",
              "</tr>\n",
              "</table>\n",
              "<table class=\"simpletable\">\n",
              "<tr>\n",
              "  <th>Ljung-Box (L1) (Q):</th>     <td>0.32</td> <th>  Jarque-Bera (JB):  </th> <td>4.39</td>\n",
              "</tr>\n",
              "<tr>\n",
              "  <th>Prob(Q):</th>                <td>0.57</td> <th>  Prob(JB):          </th> <td>0.11</td>\n",
              "</tr>\n",
              "<tr>\n",
              "  <th>Heteroskedasticity (H):</th> <td>5.57</td> <th>  Skew:              </th> <td>0.30</td>\n",
              "</tr>\n",
              "<tr>\n",
              "  <th>Prob(H) (two-sided):</th>    <td>0.01</td> <th>  Kurtosis:          </th> <td>4.65</td>\n",
              "</tr>\n",
              "</table><br/><br/>Warnings:<br/>[1] Covariance matrix calculated using the outer product of gradients (complex-step)."
            ],
            "text/plain": [
              "<class 'statsmodels.iolib.summary.Summary'>\n",
              "\"\"\"\n",
              "                                     SARIMAX Results                                      \n",
              "==========================================================================================\n",
              "Dep. Variable:                                  y   No. Observations:                   40\n",
              "Model:             SARIMAX(2, 2, 2)x(1, 1, [], 4)   Log Likelihood                 -44.817\n",
              "Date:                            Tue, 09 Mar 2021   AIC                            103.635\n",
              "Time:                                    19:38:26   BIC                            114.319\n",
              "Sample:                                         0   HQIC                           107.278\n",
              "                                             - 40                                         \n",
              "Covariance Type:                              opg                                         \n",
              "==============================================================================\n",
              "                 coef    std err          z      P>|z|      [0.025      0.975]\n",
              "------------------------------------------------------------------------------\n",
              "intercept      0.0032      0.011      0.294      0.769      -0.018       0.025\n",
              "ar.L1          1.2006      0.118     10.217      0.000       0.970       1.431\n",
              "ar.L2         -0.8164      0.100     -8.137      0.000      -1.013      -0.620\n",
              "ma.L1         -1.8531      0.555     -3.337      0.001      -2.941      -0.765\n",
              "ma.L2          0.9364      0.556      1.684      0.092      -0.153       2.026\n",
              "ar.S.L4        0.8846      0.177      5.001      0.000       0.538       1.231\n",
              "sigma2         0.5969      0.398      1.498      0.134      -0.184       1.378\n",
              "===================================================================================\n",
              "Ljung-Box (L1) (Q):                   0.32   Jarque-Bera (JB):                 4.39\n",
              "Prob(Q):                              0.57   Prob(JB):                         0.11\n",
              "Heteroskedasticity (H):               5.57   Skew:                             0.30\n",
              "Prob(H) (two-sided):                  0.01   Kurtosis:                         4.65\n",
              "===================================================================================\n",
              "\n",
              "Warnings:\n",
              "[1] Covariance matrix calculated using the outer product of gradients (complex-step).\n",
              "\"\"\""
            ]
          },
          "metadata": {
            "tags": []
          },
          "execution_count": 80
        }
      ]
    },
    {
      "cell_type": "code",
      "metadata": {
        "colab": {
          "base_uri": "https://localhost:8080/"
        },
        "id": "m5A5yLFOJsqR",
        "outputId": "0a6ff00f-d99c-4ed2-c1ea-56e2fb8aa856"
      },
      "source": [
        "# code here (0.5 pt.)\n",
        "print('ARIMA(2, 2, 2)x(1, 1, [], 4)')"
      ],
      "execution_count": 81,
      "outputs": [
        {
          "output_type": "stream",
          "text": [
            "ARIMA(2, 2, 2)x(1, 1, [], 4)\n"
          ],
          "name": "stdout"
        }
      ]
    },
    {
      "cell_type": "markdown",
      "metadata": {
        "id": "7CzacNDTJsqR"
      },
      "source": [
        "Make predictions for ```fh=np.arange(len(...)) + 1``` \n",
        "\n",
        "```model_ASArima.predict(fh=...)```"
      ]
    },
    {
      "cell_type": "code",
      "metadata": {
        "id": "m4w_R6FqJsqR"
      },
      "source": [
        "# code here (0.25 pt.)\n",
        "y_pred  = model_ASArima.predict(fh=np.arange(len(y_test)) + 1)"
      ],
      "execution_count": 82,
      "outputs": []
    },
    {
      "cell_type": "markdown",
      "metadata": {
        "id": "24KEVNR_JsqS"
      },
      "source": [
        "Plot ```y_train, y_test, y_pred_AArima``` using ```plot_series(...)```and calculate SMAPE forecast quality metric:```smape_loss(...)```"
      ]
    },
    {
      "cell_type": "code",
      "metadata": {
        "colab": {
          "base_uri": "https://localhost:8080/",
          "height": 283
        },
        "id": "-NF3G_mIJsqS",
        "outputId": "b922b753-b346-40d2-d268-ad10c287079a"
      },
      "source": [
        "# code here (0.25 pt.)\n",
        "plot_series(y_train, y_test, y_pred)\n",
        "smape_loss(y_test, y_pred)"
      ],
      "execution_count": 83,
      "outputs": [
        {
          "output_type": "execute_result",
          "data": {
            "text/plain": [
              "0.18008743467558985"
            ]
          },
          "metadata": {
            "tags": []
          },
          "execution_count": 83
        },
        {
          "output_type": "display_data",
          "data": {
            "image/png": "[encoded data removed]",
            "text/plain": [
              "<Figure size 1152x288 with 1 Axes>"
            ]
          },
          "metadata": {
            "tags": [],
            "needs_background": "light"
          }
        }
      ]
    },
    {
      "cell_type": "markdown",
      "metadata": {
        "id": "AvkZkdhfJsqS"
      },
      "source": [
        "### 2.4 GridSearch (1 pt.)\n",
        "[back to contents](#Contents)"
      ]
    },
    {
      "cell_type": "markdown",
      "metadata": {
        "id": "OOpMg1eSJsqS"
      },
      "source": [
        "Use GridSearch to choose the seasonality period, which gives the highest SMAPE \n",
        "\n",
        "```model = AutoARIMA(suppress_warnings=True,start_p=2, max_p=4, start_q=2, max_q=4, d=1)```\n",
        "\n",
        "Cross validation\n",
        "\n",
        "```CV= SlidingWindowSplitter(initial_window = 20, step_length = 4 , fh = 10)```\n",
        "\n",
        "```gscv = ForecastingGridSearchCV(model,cv=CV,param_grid={'sp':[2, 4, 8]})```\n",
        "\n",
        "Fit on the train set:\n",
        "\n",
        "gscv.fit()\n",
        "\n",
        "Return results\n",
        "\n",
        "df=pd.DataFrame(gscv. ...)\n",
        "\n",
        "Sort values in df by ```'rank_test_sMAPE'```\n",
        "\n",
        "```df.sort_values(by=['...'])```"
      ]
    },
    {
      "cell_type": "code",
      "metadata": {
        "colab": {
          "base_uri": "https://localhost:8080/"
        },
        "id": "UQg-KnCZJsqS",
        "outputId": "50900f3e-fab7-41ad-b4e9-f12fe7cf7669"
      },
      "source": [
        "# code here (0.75 pt.)\n",
        "\n",
        "model = AutoARIMA(suppress_warnings=True,start_p=2, max_p=4, start_q=2, max_q=4, d=2)\n",
        "CV= SlidingWindowSplitter(initial_window = 20, step_length = 4 , fh = 10)\n",
        "gscv = ForecastingGridSearchCV(model,cv=CV,param_grid={'sp':[2, 4, 8]})\n",
        "gscv.fit(y_train)"
      ],
      "execution_count": 84,
      "outputs": [
        {
          "output_type": "execute_result",
          "data": {
            "text/plain": [
              "ForecastingGridSearchCV(cv=<sktime.forecasting.model_selection._split.SlidingWindowSplitter object at 0x7fc6e5294890>,\n",
              "                        forecaster=AutoARIMA(d=2, max_p=4, max_q=4,\n",
              "                                             suppress_warnings=True),\n",
              "                        param_grid={'sp': [2, 4, 8]})"
            ]
          },
          "metadata": {
            "tags": []
          },
          "execution_count": 84
        }
      ]
    },
    {
      "cell_type": "markdown",
      "metadata": {
        "id": "gU3kS6dyJsqS"
      },
      "source": [
        "What seasonality period would you choose and why?"
      ]
    },
    {
      "cell_type": "code",
      "metadata": {
        "colab": {
          "base_uri": "https://localhost:8080/",
          "height": 142
        },
        "id": "Unv7PkSHJsqS",
        "outputId": "9dbe1c5a-bf94-4d94-d1c3-c7ac9281a68a"
      },
      "source": [
        "# code here (0.25 pt.)\n",
        "df = pd.DataFrame(gscv.cv_results_)\n",
        "df.sort_values(by=['rank_test_sMAPE'])"
      ],
      "execution_count": 85,
      "outputs": [
        {
          "output_type": "execute_result",
          "data": {
            "text/html": [
              "<div>\n",
              "<style scoped>\n",
              "    .dataframe tbody tr th:only-of-type {\n",
              "        vertical-align: middle;\n",
              "    }\n",
              "\n",
              "    .dataframe tbody tr th {\n",
              "        vertical-align: top;\n",
              "    }\n",
              "\n",
              "    .dataframe thead th {\n",
              "        text-align: right;\n",
              "    }\n",
              "</style>\n",
              "<table border=\"1\" class=\"dataframe\">\n",
              "  <thead>\n",
              "    <tr style=\"text-align: right;\">\n",
              "      <th></th>\n",
              "      <th>mean_fit_time</th>\n",
              "      <th>mean_score_time</th>\n",
              "      <th>param_sp</th>\n",
              "      <th>params</th>\n",
              "      <th>mean_test_sMAPE</th>\n",
              "      <th>rank_test_sMAPE</th>\n",
              "    </tr>\n",
              "  </thead>\n",
              "  <tbody>\n",
              "    <tr>\n",
              "      <th>1</th>\n",
              "      <td>7.051046</td>\n",
              "      <td>0.042990</td>\n",
              "      <td>4</td>\n",
              "      <td>{'sp': 4}</td>\n",
              "      <td>0.578061</td>\n",
              "      <td>1</td>\n",
              "    </tr>\n",
              "    <tr>\n",
              "      <th>0</th>\n",
              "      <td>4.768731</td>\n",
              "      <td>0.041976</td>\n",
              "      <td>2</td>\n",
              "      <td>{'sp': 2}</td>\n",
              "      <td>0.591794</td>\n",
              "      <td>2</td>\n",
              "    </tr>\n",
              "    <tr>\n",
              "      <th>2</th>\n",
              "      <td>4.824244</td>\n",
              "      <td>0.032470</td>\n",
              "      <td>8</td>\n",
              "      <td>{'sp': 8}</td>\n",
              "      <td>1.119565</td>\n",
              "      <td>3</td>\n",
              "    </tr>\n",
              "  </tbody>\n",
              "</table>\n",
              "</div>"
            ],
            "text/plain": [
              "   mean_fit_time  mean_score_time  ... mean_test_sMAPE rank_test_sMAPE\n",
              "1       7.051046         0.042990  ...        0.578061               1\n",
              "0       4.768731         0.041976  ...        0.591794               2\n",
              "2       4.824244         0.032470  ...        1.119565               3\n",
              "\n",
              "[3 rows x 6 columns]"
            ]
          },
          "metadata": {
            "tags": []
          },
          "execution_count": 85
        }
      ]
    },
    {
      "cell_type": "code",
      "metadata": {
        "colab": {
          "base_uri": "https://localhost:8080/",
          "height": 36
        },
        "id": "Goylo9giziMk",
        "outputId": "45626e8e-3d9d-4b56-9ddf-e18f181ce229"
      },
      "source": [
        "'''we would use seasonality period 4 because the mean SMAPE is the smallest'''"
      ],
      "execution_count": 127,
      "outputs": [
        {
          "output_type": "execute_result",
          "data": {
            "application/vnd.google.colaboratory.intrinsic+json": {
              "type": "string"
            },
            "text/plain": [
              "'we would use seasonality period 4 because the mean SMAPE is the smallest'"
            ]
          },
          "metadata": {
            "tags": []
          },
          "execution_count": 127
        }
      ]
    },
    {
      "cell_type": "markdown",
      "metadata": {
        "id": "d-eqQ7-uJsqS"
      },
      "source": [
        "### 2.5 Interval forecasts AutoArima (1.25 pt.)\n",
        "[back to contents](#Contents)"
      ]
    },
    {
      "cell_type": "markdown",
      "metadata": {
        "id": "OszhQynBJsqT"
      },
      "source": [
        "Get 95% confidence intervals either for ```model_ASArima``` or for ```gscv```:\n",
        "\n",
        "For example:\n",
        "\n",
        "```y_pred_ASArima_best=model_ASArima.predict(fh=..., return_pred_int=True)```\n",
        "\n",
        "Mean forecast or point forecast\n",
        "\n",
        "mean=y_pred_ASArima_best[0]\n",
        "\n",
        "Lower and upper bounds\n",
        "\n",
        "upper_int=...\n",
        "\n",
        "lower_int=..."
      ]
    },
    {
      "cell_type": "code",
      "metadata": {
        "id": "ItBJMkQbJsqT"
      },
      "source": [
        "# code here (1 pt.)\n",
        "y_pred_ASArima_best=model_ASArima.predict(fh=np.arange(len(y_test))+1, return_pred_int=True)\n",
        "mean=y_pred_ASArima_best[0]\n",
        "upper_int =  y_pred_ASArima_best[1][\"lower\"]\n",
        "lower_int =  y_pred_ASArima_best[1][\"upper\"]"
      ],
      "execution_count": 86,
      "outputs": []
    },
    {
      "cell_type": "markdown",
      "metadata": {
        "id": "hw_z4IGZJsqT"
      },
      "source": [
        "Plot mean forecast, upper and lower intervals, test set:\n",
        "\n",
        "```plot_series()```"
      ]
    },
    {
      "cell_type": "code",
      "metadata": {
        "colab": {
          "base_uri": "https://localhost:8080/",
          "height": 265
        },
        "id": "PXamjCxnJsqT",
        "outputId": "0e0cd8ae-1ef8-4867-8d1d-3727dca9fb80"
      },
      "source": [
        "# code here (0.25 pt.)\n",
        "_=plot_series(mean, upper_int, lower_int, y_test,  labels=[\"mean\", \"upper\", \"lower\", \"y_test\"])"
      ],
      "execution_count": 87,
      "outputs": [
        {
          "output_type": "display_data",
          "data": {
            "image/png": "[encoded data removed]",
            "text/plain": [
              "<Figure size 1152x288 with 1 Axes>"
            ]
          },
          "metadata": {
            "tags": [],
            "needs_background": "light"
          }
        }
      ]
    }
  ]
}